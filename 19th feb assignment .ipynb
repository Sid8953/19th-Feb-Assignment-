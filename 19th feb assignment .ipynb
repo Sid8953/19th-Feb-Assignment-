{
 "cells": [
  {
   "cell_type": "markdown",
   "id": "037f64ad-3a1d-435c-9db1-f5ae64a41e0f",
   "metadata": {},
   "source": [
    "# ans 1\n",
    "Flask is a popular web framework for building web applications using Python. It is a lightweight and modular framework that is easy to use and provides flexibility for developers. Some of the advantages of using Flask are:\n",
    "\n",
    "Lightweight: Flask is a lightweight framework that does not come with any pre-built components, allowing developers to choose the components they need and avoiding any unnecessary bloat in their application.\n",
    "\n",
    "Easy to use: Flask is easy to learn and use, making it an excellent choice for beginners. It also has a simple and intuitive API that allows developers to quickly build web applications.\n",
    "\n",
    "Flexible: Flask allows developers to customize and extend the framework according to their needs. It does not impose any specific architecture or directory structure, giving developers more freedom in building their applications.\n",
    "\n",
    "Built-in development server: Flask comes with a built-in development server, making it easy to test and debug applications without the need for additional tools.\n",
    "\n",
    "Large community: Flask has a large community of developers who contribute to the framework's development and provide support to other developers. This community provides a wealth of resources, such as plugins, extensions, and documentation, that can help developers to build applications more quickly and efficiently.\n",
    "\n",
    "Overall, Flask is a powerful framework that is easy to use, flexible, and customizable. It is an excellent choice for building web applications, particularly for smaller projects or prototypes."
   ]
  },
  {
   "cell_type": "code",
   "execution_count": null,
   "id": "8222f49b-0d2f-4abc-bb7a-fb76b9711f53",
   "metadata": {},
   "outputs": [],
   "source": [
    "# ans 2\n",
    "from flask import Flask\n",
    "\n",
    "app = Flask(__name__)\n",
    "\n",
    "@app.route(\"/\")\n",
    "def hello_world():\n",
    "    return '<h1>Hello World!!</h1>'\n",
    "\n",
    "if __name__==\"__main__\":\n",
    "    app.run(host=\"0.0.0.0\")"
   ]
  },
  {
   "cell_type": "markdown",
   "id": "204f2c23-6b5c-49fe-8873-9aecba2ef528",
   "metadata": {},
   "source": [
    "# Hello World!!"
   ]
  },
  {
   "cell_type": "markdown",
   "id": "97c3fac6-5fe6-4387-8f7e-824eacaa0ea1",
   "metadata": {},
   "source": [
    "# ans 3\n",
    "\n",
    "App routing in Flask refers to the process of mapping URLs to functions in a Flask application. When a user makes a request to a URL in a Flask application, Flask uses the app routing mechanism to determine which function should be executed to handle the request.\n",
    "\n",
    "App routes are essential in Flask because they enable developers to create multiple pages or endpoints for their web application. Each app route defines a unique URL, and when a user visits that URL, Flask calls the function that is associated with the route to generate the HTML content to be displayed on the page.\n",
    "\n",
    "For example, consider a Flask application that has two pages, one to display a login form and another to display the user's profile information. In this case, the login page might have the URL '/login', and the profile page might have the URL '/profile'. By using app routes, the developer can define functions that will handle requests made to these URLs, making it easy to manage the logic for each page in a separate function.\n",
    "\n",
    "App routes can also be used to define dynamic URLs that can accept parameters, such as user IDs or product names. By using dynamic routes, a developer can create a single function to handle requests to multiple URLs, reducing the amount of duplicated code and making the application more maintainable.\n",
    "\n",
    "Overall, app routing is a crucial part of building web applications in Flask, as it enables developers to create flexible and dynamic web applications that can handle multiple URLs and serve content tailored to the user's request."
   ]
  },
  {
   "cell_type": "code",
   "execution_count": null,
   "id": "040adf38-6dbd-4e69-ac96-76caa7de1614",
   "metadata": {},
   "outputs": [],
   "source": [
    "# ans 4\n",
    "from flask import Flask\n",
    "\n",
    "app = Flask(__name__)\n",
    "\n",
    "@app.route(\"/\")\n",
    "def company_details():\n",
    "    return \"<h2>Company Name: ABC Corporation</h2><br><h2>Location: India</h2><br><h2>Contact Detail: 999-999-9999</h2>\"\n",
    "\n",
    "@app.route(\"/welcome\")\n",
    "def welcome_message():\n",
    "    return \"<h1>Welcome to ABC Corporation</h1>\"\n",
    "\n",
    "if __name__ == \"__main__\":\n",
    "    app.run(host = \"0.0.0.0\")"
   ]
  },
  {
   "cell_type": "markdown",
   "id": "29737014-7f39-4acd-b769-ee3c5fab0bd7",
   "metadata": {},
   "source": [
    "# Company Name: ABC Corporation\n",
    "\n",
    "\n",
    "\n",
    "\n",
    "# Location: India\n",
    "\n",
    "\n",
    "# Contact Detail: 999-999-9999"
   ]
  },
  {
   "cell_type": "markdown",
   "id": "5837c69c-3cd7-49c5-96c8-48437008c089",
   "metadata": {},
   "source": [
    "# ans 5\n",
    "In Flask, the url_for() function is used for URL building. This function takes the endpoint name and any arguments and returns a URL to that endpoint. The url_for() function is useful because it generates URLs based on the routes defined in the application, which ensures that the URLs are consistent and will continue to work even if the URL scheme changes."
   ]
  },
  {
   "cell_type": "code",
   "execution_count": null,
   "id": "0c5f21d3-5c3b-4754-9812-d7a0fcf7d90a",
   "metadata": {},
   "outputs": [],
   "source": [
    "from flask import Flask, url_for\n",
    "\n",
    "app = Flask(__name__)\n",
    "\n",
    "@app.route('/')\n",
    "def index():\n",
    "    return 'This is the homepage.'\n",
    "\n",
    "@app.route('/user/<username>')\n",
    "def profile(username):\n",
    "    return f'This is the profile page for {username}.'\n",
    "\n",
    "@app.route('/login')\n",
    "def login():\n",
    "    return 'Please log in.'\n",
    "\n",
    "with app.test_request_context():\n",
    "    print(url_for('index'))  # output: '/'\n",
    "    print(url_for('login'))  # output: '/login'\n",
    "    print(url_for('login', next='/'))  # output: '/login?next=%2F'\n",
    "    print(url_for('profile', username='Alice'))  # output: '/user/Alice'"
   ]
  },
  {
   "cell_type": "code",
   "execution_count": null,
   "id": "2381dbad-5572-4be5-b8a2-3618a8c680e6",
   "metadata": {},
   "outputs": [],
   "source": []
  }
 ],
 "metadata": {
  "kernelspec": {
   "display_name": "Python 3 (ipykernel)",
   "language": "python",
   "name": "python3"
  },
  "language_info": {
   "codemirror_mode": {
    "name": "ipython",
    "version": 3
   },
   "file_extension": ".py",
   "mimetype": "text/x-python",
   "name": "python",
   "nbconvert_exporter": "python",
   "pygments_lexer": "ipython3",
   "version": "3.10.8"
  }
 },
 "nbformat": 4,
 "nbformat_minor": 5
}
